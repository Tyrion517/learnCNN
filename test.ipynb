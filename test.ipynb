{
 "cells": [
  {
   "cell_type": "code",
   "id": "98195948f03b9abf",
   "metadata": {
    "collapsed": true,
    "ExecuteTime": {
     "end_time": "2024-05-14T13:58:28.168153Z",
     "start_time": "2024-05-14T13:58:27.041885Z"
    }
   },
   "source": [
    "import pandas as pd\n",
    "from Recognizer import Recognizer"
   ],
   "outputs": [
    {
     "name": "stderr",
     "output_type": "stream",
     "text": [
      "2024-05-14 21:58:27.193989: I tensorflow/tsl/cuda/cudart_stub.cc:28] Could not find cuda drivers on your machine, GPU will not be used.\n",
      "2024-05-14 21:58:27.223947: I tensorflow/tsl/cuda/cudart_stub.cc:28] Could not find cuda drivers on your machine, GPU will not be used.\n",
      "2024-05-14 21:58:27.225031: I tensorflow/core/platform/cpu_feature_guard.cc:182] This TensorFlow binary is optimized to use available CPU instructions in performance-critical operations.\n",
      "To enable the following instructions: AVX2 FMA, in other operations, rebuild TensorFlow with the appropriate compiler flags.\n",
      "2024-05-14 21:58:27.826890: W tensorflow/compiler/tf2tensorrt/utils/py_utils.cc:38] TF-TRT Warning: Could not find TensorRT\n"
     ]
    }
   ],
   "execution_count": 1
  },
  {
   "metadata": {
    "ExecuteTime": {
     "end_time": "2024-05-14T13:58:29.033Z",
     "start_time": "2024-05-14T13:58:28.654114Z"
    }
   },
   "cell_type": "code",
   "source": [
    "\n",
    "recognizer = Recognizer('./model/chinese-45.keras', './model/chinese-features-45.npy')"
   ],
   "id": "d535bb2c0b080fd7",
   "outputs": [
    {
     "name": "stderr",
     "output_type": "stream",
     "text": [
      "2024-05-14 21:58:28.723233: E tensorflow/compiler/xla/stream_executor/cuda/cuda_driver.cc:268] failed call to cuInit: CUDA_ERROR_SYSTEM_DRIVER_MISMATCH: system has unsupported display driver / cuda driver combination\n",
      "2024-05-14 21:58:28.723257: I tensorflow/compiler/xla/stream_executor/cuda/cuda_diagnostics.cc:168] retrieving CUDA diagnostic information for host: RK200\n",
      "2024-05-14 21:58:28.723262: I tensorflow/compiler/xla/stream_executor/cuda/cuda_diagnostics.cc:175] hostname: RK200\n",
      "2024-05-14 21:58:28.723348: I tensorflow/compiler/xla/stream_executor/cuda/cuda_diagnostics.cc:199] libcuda reported version is: 550.78.0\n",
      "2024-05-14 21:58:28.723363: I tensorflow/compiler/xla/stream_executor/cuda/cuda_diagnostics.cc:203] kernel reported version is: 550.67.0\n",
      "2024-05-14 21:58:28.723368: E tensorflow/compiler/xla/stream_executor/cuda/cuda_diagnostics.cc:312] kernel version 550.67.0 does not match DSO version 550.78.0 -- cannot find working devices in this configuration\n"
     ]
    }
   ],
   "execution_count": 2
  },
  {
   "metadata": {
    "ExecuteTime": {
     "end_time": "2024-05-14T13:58:54.690362Z",
     "start_time": "2024-05-14T13:58:54.656151Z"
    }
   },
   "cell_type": "code",
   "source": [
    "character = recognizer.recognize_image('/mount/File/PycharmProjects/learnML/image/five.jpg')\n",
    "print(character)"
   ],
   "id": "5f1ad982885b293",
   "outputs": [
    {
     "name": "stdout",
     "output_type": "stream",
     "text": [
      "1/1 [==============================] - 0s 14ms/step\n",
      "五\n"
     ]
    }
   ],
   "execution_count": 5
  },
  {
   "metadata": {
    "ExecuteTime": {
     "end_time": "2024-05-12T05:48:10.080428Z",
     "start_time": "2024-05-12T05:48:09.673640Z"
    }
   },
   "cell_type": "code",
   "source": [
    "\n",
    "data = pd.read_csv('./input/chinese/train.csv')\n",
    "y = data['character']\n",
    "X = data.drop('character', axis=1)\n",
    "X_3d = X.values.reshape(-1, 28, 28)"
   ],
   "id": "initial_id",
   "outputs": [],
   "execution_count": 2
  },
  {
   "metadata": {
    "ExecuteTime": {
     "end_time": "2024-05-12T05:48:10.085379Z",
     "start_time": "2024-05-12T05:48:10.083563Z"
    }
   },
   "cell_type": "code",
   "source": "# cv2.imwrite(f'./image/{y[index]}.jpg', X_3d[index])",
   "id": "e7e13cd845811d29",
   "outputs": [],
   "execution_count": 3
  },
  {
   "metadata": {
    "ExecuteTime": {
     "end_time": "2024-05-12T05:48:11.515501Z",
     "start_time": "2024-05-12T05:48:10.086030Z"
    }
   },
   "cell_type": "code",
   "source": [
    "\n",
    "recognizer = Recognizer('./model/chinese-45.keras', './model/chinese-features-45.npy')"
   ],
   "id": "8bd0250d5c658fb1",
   "outputs": [
    {
     "name": "stderr",
     "output_type": "stream",
     "text": [
      "2024-05-12 13:48:10.212531: I tensorflow/tsl/cuda/cudart_stub.cc:28] Could not find cuda drivers on your machine, GPU will not be used.\n",
      "2024-05-12 13:48:10.232647: I tensorflow/tsl/cuda/cudart_stub.cc:28] Could not find cuda drivers on your machine, GPU will not be used.\n",
      "2024-05-12 13:48:10.233141: I tensorflow/core/platform/cpu_feature_guard.cc:182] This TensorFlow binary is optimized to use available CPU instructions in performance-critical operations.\n",
      "To enable the following instructions: AVX2 FMA, in other operations, rebuild TensorFlow with the appropriate compiler flags.\n",
      "2024-05-12 13:48:10.824952: W tensorflow/compiler/tf2tensorrt/utils/py_utils.cc:38] TF-TRT Warning: Could not find TensorRT\n",
      "2024-05-12 13:48:11.200938: I tensorflow/compiler/xla/stream_executor/cuda/cuda_gpu_executor.cc:995] successful NUMA node read from SysFS had negative value (-1), but there must be at least one NUMA node, so returning NUMA node zero. See more at https://github.com/torvalds/linux/blob/v6.0/Documentation/ABI/testing/sysfs-bus-pci#L344-L355\n",
      "2024-05-12 13:48:11.214606: W tensorflow/core/common_runtime/gpu/gpu_device.cc:1960] Cannot dlopen some GPU libraries. Please make sure the missing libraries mentioned above are installed properly if you would like to use GPU. Follow the guide at https://www.tensorflow.org/install/gpu for how to download and setup the required libraries for your platform.\n",
      "Skipping registering GPU devices...\n"
     ]
    }
   ],
   "execution_count": 4
  },
  {
   "metadata": {
    "ExecuteTime": {
     "end_time": "2024-05-12T05:48:11.743324Z",
     "start_time": "2024-05-12T05:48:11.516304Z"
    }
   },
   "cell_type": "code",
   "source": [
    "import random\n",
    "\n",
    "index = random.randint(0, len(X_3d) - 1)\n",
    "\n",
    "from matplotlib import pyplot as plt\n",
    "\n",
    "plt.imshow(X_3d[index], cmap='gray')\n",
    "print(recognizer.recognize_matrix(X_3d[index]))"
   ],
   "id": "ff02c53422734c0f",
   "outputs": [
    {
     "name": "stdout",
     "output_type": "stream",
     "text": [
      "1/1 [==============================] - 0s 65ms/step\n",
      "亿\n"
     ]
    },
    {
     "data": {
      "text/plain": [
       "<Figure size 640x480 with 1 Axes>"
      ],
      "image/png": "[encoded data removed]"
     },
     "metadata": {},
     "output_type": "display_data"
    }
   ],
   "execution_count": 5
  },
  {
   "metadata": {
    "ExecuteTime": {
     "end_time": "2024-05-12T05:55:55.346773Z",
     "start_time": "2024-05-12T05:55:55.314373Z"
    }
   },
   "cell_type": "code",
   "source": "recognizer.recognize_image('./image/万.jpg')",
   "id": "9914a53bb482899a",
   "outputs": [
    {
     "name": "stdout",
     "output_type": "stream",
     "text": [
      "1/1 [==============================] - 0s 12ms/step\n"
     ]
    },
    {
     "data": {
      "text/plain": [
       "'万'"
      ]
     },
     "execution_count": 8,
     "metadata": {},
     "output_type": "execute_result"
    }
   ],
   "execution_count": 8
  },
  {
   "metadata": {
    "ExecuteTime": {
     "end_time": "2024-05-12T05:48:11.748078Z",
     "start_time": "2024-05-12T05:48:11.746706Z"
    }
   },
   "cell_type": "code",
   "source": "",
   "id": "a79697ddc44a98fc",
   "outputs": [],
   "execution_count": 6
  }
 ],
 "metadata": {
  "kernelspec": {
   "display_name": "Python 3",
   "language": "python",
   "name": "python3"
  },
  "language_info": {
   "codemirror_mode": {
    "name": "ipython",
    "version": 2
   },
   "file_extension": ".py",
   "mimetype": "text/x-python",
   "name": "python",
   "nbconvert_exporter": "python",
   "pygments_lexer": "ipython2",
   "version": "2.7.6"
  }
 },
 "nbformat": 4,
 "nbformat_minor": 5
}
