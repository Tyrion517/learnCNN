{
 "cells": [
  {
   "cell_type": "code",
   "id": "initial_id",
   "metadata": {
    "collapsed": true,
    "ExecuteTime": {
     "end_time": "2024-05-14T15:21:00.860097Z",
     "start_time": "2024-05-14T15:21:00.855450Z"
    }
   },
   "source": [
    "import uuid\n",
    "\n",
    "import pandas as pd\n",
    "import numpy as np\n",
    "import matplotlib.pyplot as plt\n",
    "import matplotlib.image as mpimg\n",
    "import seaborn as sns\n",
    "from keras.src.callbacks import EarlyStopping\n",
    "%matplotlib inline\n",
    "from utils import *\n",
    "\n",
    "np.random.seed(2)\n",
    "\n",
    "from sklearn.model_selection import train_test_split\n",
    "from sklearn.metrics import confusion_matrix\n",
    "import itertools\n",
    "# from keras.utils.np_utils import to_categorical\n",
    "\n",
    "from sklearn.preprocessing import OneHotEncoder # convert to one-hot-encoding\n",
    "from keras import Sequential\n",
    "from keras.models import load_model\n",
    "from keras.layers import Dense, Dropout, Flatten, Conv2D, MaxPool2D\n",
    "from keras.optimizers import RMSprop\n",
    "from keras.preprocessing.image import ImageDataGenerator\n",
    "from keras.callbacks import ReduceLROnPlateau"
   ],
   "outputs": [],
   "execution_count": 52
  },
  {
   "metadata": {
    "ExecuteTime": {
     "end_time": "2024-05-14T15:21:01.239772Z",
     "start_time": "2024-05-14T15:21:00.865756Z"
    }
   },
   "cell_type": "code",
   "source": [
    "data = pd.read_csv('../input/chinese/train.csv')\n",
    "y = data['character']\n",
    "X = data.drop('character', axis=1)"
   ],
   "id": "28468889951fabd3",
   "outputs": [],
   "execution_count": 53
  },
  {
   "metadata": {
    "ExecuteTime": {
     "end_time": "2024-05-14T15:21:01.243254Z",
     "start_time": "2024-05-14T15:21:01.240826Z"
    }
   },
   "cell_type": "code",
   "source": "X_3d = X.values.reshape(-1, 28, 28, 1)",
   "id": "cd0ffface16965c2",
   "outputs": [],
   "execution_count": 54
  },
  {
   "metadata": {
    "ExecuteTime": {
     "end_time": "2024-05-14T15:21:01.261975Z",
     "start_time": "2024-05-14T15:21:01.243984Z"
    }
   },
   "cell_type": "code",
   "source": "X_3d = X_3d / 255",
   "id": "44d34c0c295fabb3",
   "outputs": [],
   "execution_count": 55
  },
  {
   "metadata": {
    "ExecuteTime": {
     "end_time": "2024-05-14T15:21:01.330717Z",
     "start_time": "2024-05-14T15:21:01.263344Z"
    }
   },
   "cell_type": "code",
   "source": "X_train, X_test, y_train, y_test = train_test_split(X_3d, y, test_size=0.99, random_state=2)",
   "id": "d3f4290cd460feb5",
   "outputs": [],
   "execution_count": 56
  },
  {
   "metadata": {
    "ExecuteTime": {
     "end_time": "2024-05-14T15:21:01.333657Z",
     "start_time": "2024-05-14T15:21:01.331599Z"
    }
   },
   "cell_type": "code",
   "source": [
    "def decode_onehot(encoded_vector, feature_names):\n",
    "    index_ = np.argmax(encoded_vector)\n",
    "    return feature_names[index_]"
   ],
   "id": "e60d8a8b09d11f27",
   "outputs": [],
   "execution_count": 57
  },
  {
   "metadata": {
    "ExecuteTime": {
     "end_time": "2024-05-14T15:21:01.338845Z",
     "start_time": "2024-05-14T15:21:01.334323Z"
    }
   },
   "cell_type": "code",
   "source": [
    "one_hot_encoder = OneHotEncoder().fit(y_train.array.reshape(-1,1))\n",
    "features = one_hot_encoder.categories_[0]\n",
    "y_train_encoded = one_hot_encoder.transform(y_train.array.reshape(-1,1)).toarray()\n",
    "y_test_encoded = one_hot_encoder.transform(y_test.array.reshape(-1,1)).toarray()"
   ],
   "id": "cc272edd4b9a40f2",
   "outputs": [],
   "execution_count": 58
  },
  {
   "metadata": {
    "ExecuteTime": {
     "end_time": "2024-05-14T15:21:01.341709Z",
     "start_time": "2024-05-14T15:21:01.339594Z"
    }
   },
   "cell_type": "code",
   "source": "show_details(features)",
   "id": "6f7b00a702a27bac",
   "outputs": [
    {
     "name": "stdout",
     "output_type": "stream",
     "text": [
      "type(array): <class 'numpy.ndarray'>\n",
      "shape: (15,)\n",
      "dtype: object\n",
      "\n"
     ]
    }
   ],
   "execution_count": 59
  },
  {
   "metadata": {
    "ExecuteTime": {
     "end_time": "2024-05-14T15:21:01.464957Z",
     "start_time": "2024-05-14T15:21:01.342451Z"
    }
   },
   "cell_type": "code",
   "source": [
    "import random\n",
    "\n",
    "index = random.randint(0, len(y_train_encoded) - 1)\n",
    "\n",
    "plt.imshow(X_train[index], cmap='Greys')\n",
    "\n",
    "print(decode_onehot(y_train_encoded[index], features))"
   ],
   "id": "1a04eb2efd3668c2",
   "outputs": [
    {
     "name": "stdout",
     "output_type": "stream",
     "text": [
      "四\n"
     ]
    },
    {
     "data": {
      "text/plain": [
       "<Figure size 640x480 with 1 Axes>"
      ],
      "image/png": "[encoded data removed]"
     },
     "metadata": {},
     "output_type": "display_data"
    }
   ],
   "execution_count": 60
  },
  {
   "metadata": {
    "ExecuteTime": {
     "end_time": "2024-05-14T15:21:01.550094Z",
     "start_time": "2024-05-14T15:21:01.465742Z"
    }
   },
   "cell_type": "code",
   "source": [
    "model = Sequential()\n",
    "hidden_layer = load_model('../model/base_model.keras')\n",
    "hidden_layer.trainable = True\n",
    "model.add(hidden_layer)\n",
    "model.add(Dense(len(features), activation='softmax'))"
   ],
   "id": "7034589c5b55f103",
   "outputs": [],
   "execution_count": 61
  },
  {
   "metadata": {
    "ExecuteTime": {
     "end_time": "2024-05-14T15:21:01.556677Z",
     "start_time": "2024-05-14T15:21:01.551787Z"
    }
   },
   "cell_type": "code",
   "source": "model.compile(loss='categorical_crossentropy', optimizer='adam', metrics=['accuracy'])",
   "id": "aee6713806c59d97",
   "outputs": [],
   "execution_count": 62
  },
  {
   "metadata": {
    "ExecuteTime": {
     "end_time": "2024-05-14T15:21:01.559403Z",
     "start_time": "2024-05-14T15:21:01.557572Z"
    }
   },
   "cell_type": "code",
   "source": [
    "epochs = 100 # Turn epochs to 30 to get 0.9967 accuracy\n",
    "batch_size = 86"
   ],
   "id": "6001703914665d87",
   "outputs": [],
   "execution_count": 63
  },
  {
   "metadata": {
    "ExecuteTime": {
     "end_time": "2024-05-14T15:21:01.562350Z",
     "start_time": "2024-05-14T15:21:01.560114Z"
    }
   },
   "cell_type": "code",
   "source": [
    "# Set a learning rate annealer\n",
    "learning_rate_reduction = ReduceLROnPlateau(monitor='val_loss', \n",
    "                                            patience=3, \n",
    "                                            verbose=1, \n",
    "                                            factor=0.5, \n",
    "                                            min_lr=0.0001)\n",
    "\n",
    "early_stopping = EarlyStopping(monitor='val_loss', patience=10, verbose=1, mode='min', min_delta=0.001)"
   ],
   "id": "a0c6c83227571ab1",
   "outputs": [],
   "execution_count": 64
  },
  {
   "metadata": {
    "ExecuteTime": {
     "end_time": "2024-05-14T15:21:01.565500Z",
     "start_time": "2024-05-14T15:21:01.563050Z"
    }
   },
   "cell_type": "code",
   "source": "X_train.shape",
   "id": "e0730ea03b1181b7",
   "outputs": [
    {
     "data": {
      "text/plain": [
       "(150, 28, 28, 1)"
      ]
     },
     "execution_count": 65,
     "metadata": {},
     "output_type": "execute_result"
    }
   ],
   "execution_count": 65
  },
  {
   "metadata": {
    "ExecuteTime": {
     "end_time": "2024-05-14T15:21:01.568860Z",
     "start_time": "2024-05-14T15:21:01.566184Z"
    }
   },
   "cell_type": "code",
   "source": [
    "datagen = ImageDataGenerator(\n",
    "        featurewise_center=False,  # set input mean to 0 over the dataset\n",
    "        samplewise_center=False,  # set each sample mean to 0\n",
    "        featurewise_std_normalization=False,  # divide inputs by std of the dataset\n",
    "        samplewise_std_normalization=False,  # divide each input by its std\n",
    "        zca_whitening=False,  # apply ZCA whitening\n",
    "        rotation_range=10,  # randomly rotate images in the range (degrees, 0 to 180)\n",
    "        zoom_range = 0.1, # Randomly zoom image \n",
    "        width_shift_range=0.1,  # randomly shift images horizontally (fraction of total width)\n",
    "        height_shift_range=0.1,  # randomly shift images vertically (fraction of total height)\n",
    "        horizontal_flip=False,  # randomly flip images\n",
    "        vertical_flip=False)  # randomly flip images\n",
    "\n",
    "\n",
    "datagen.fit(X_train)"
   ],
   "id": "d622f37e51e74d12",
   "outputs": [],
   "execution_count": 66
  },
  {
   "metadata": {
    "ExecuteTime": {
     "end_time": "2024-05-14T15:22:25.695756Z",
     "start_time": "2024-05-14T15:21:01.569700Z"
    }
   },
   "cell_type": "code",
   "source": "history = model.fit(X_train, y_train_encoded, epochs=epochs, batch_size=batch_size, validation_data=(X_test, y_test_encoded),callbacks=[learning_rate_reduction,early_stopping],verbose=2)",
   "id": "631b1c0004371334",
   "outputs": [
    {
     "name": "stdout",
     "output_type": "stream",
     "text": [
      "Epoch 1/100\n",
      "2/2 - 2s - loss: 3.1176 - accuracy: 0.0667 - val_loss: 2.6695 - val_accuracy: 0.1345 - lr: 0.0010 - 2s/epoch - 1s/step\n",
      "Epoch 2/100\n",
      "2/2 - 2s - loss: 2.6613 - accuracy: 0.1133 - val_loss: 2.6475 - val_accuracy: 0.2308 - lr: 0.0010 - 2s/epoch - 906ms/step\n",
      "Epoch 3/100\n",
      "2/2 - 2s - loss: 2.6390 - accuracy: 0.1800 - val_loss: 2.6319 - val_accuracy: 0.3106 - lr: 0.0010 - 2s/epoch - 904ms/step\n",
      "Epoch 4/100\n",
      "2/2 - 2s - loss: 2.5895 - accuracy: 0.2867 - val_loss: 2.5755 - val_accuracy: 0.4006 - lr: 0.0010 - 2s/epoch - 908ms/step\n",
      "Epoch 5/100\n",
      "2/2 - 2s - loss: 2.4606 - accuracy: 0.4467 - val_loss: 2.4307 - val_accuracy: 0.3923 - lr: 0.0010 - 2s/epoch - 932ms/step\n",
      "Epoch 6/100\n",
      "2/2 - 2s - loss: 2.3070 - accuracy: 0.3867 - val_loss: 2.2120 - val_accuracy: 0.2921 - lr: 0.0010 - 2s/epoch - 906ms/step\n",
      "Epoch 7/100\n",
      "2/2 - 2s - loss: 2.0984 - accuracy: 0.3667 - val_loss: 2.0151 - val_accuracy: 0.2727 - lr: 0.0010 - 2s/epoch - 908ms/step\n",
      "Epoch 8/100\n",
      "2/2 - 2s - loss: 1.9018 - accuracy: 0.3800 - val_loss: 1.7204 - val_accuracy: 0.4528 - lr: 0.0010 - 2s/epoch - 903ms/step\n",
      "Epoch 9/100\n",
      "2/2 - 2s - loss: 1.6582 - accuracy: 0.4600 - val_loss: 1.4232 - val_accuracy: 0.6151 - lr: 0.0010 - 2s/epoch - 909ms/step\n",
      "Epoch 10/100\n",
      "2/2 - 2s - loss: 1.3560 - accuracy: 0.5933 - val_loss: 1.1901 - val_accuracy: 0.7034 - lr: 0.0010 - 2s/epoch - 910ms/step\n",
      "Epoch 11/100\n",
      "2/2 - 2s - loss: 1.1779 - accuracy: 0.6400 - val_loss: 0.9610 - val_accuracy: 0.7677 - lr: 0.0010 - 2s/epoch - 904ms/step\n",
      "Epoch 12/100\n",
      "2/2 - 2s - loss: 0.7358 - accuracy: 0.8667 - val_loss: 0.7142 - val_accuracy: 0.8197 - lr: 0.0010 - 2s/epoch - 901ms/step\n",
      "Epoch 13/100\n",
      "2/2 - 2s - loss: 0.6999 - accuracy: 0.8400 - val_loss: 0.5148 - val_accuracy: 0.8725 - lr: 0.0010 - 2s/epoch - 905ms/step\n",
      "Epoch 14/100\n",
      "2/2 - 2s - loss: 0.4468 - accuracy: 0.8933 - val_loss: 0.3879 - val_accuracy: 0.8964 - lr: 0.0010 - 2s/epoch - 900ms/step\n",
      "Epoch 15/100\n",
      "2/2 - 2s - loss: 0.3398 - accuracy: 0.8733 - val_loss: 0.3165 - val_accuracy: 0.9101 - lr: 0.0010 - 2s/epoch - 898ms/step\n",
      "Epoch 16/100\n",
      "2/2 - 2s - loss: 0.2500 - accuracy: 0.9333 - val_loss: 0.2767 - val_accuracy: 0.9174 - lr: 0.0010 - 2s/epoch - 898ms/step\n",
      "Epoch 17/100\n",
      "2/2 - 2s - loss: 0.1690 - accuracy: 0.9267 - val_loss: 0.2614 - val_accuracy: 0.9154 - lr: 0.0010 - 2s/epoch - 905ms/step\n",
      "Epoch 18/100\n",
      "2/2 - 2s - loss: 0.1375 - accuracy: 0.9667 - val_loss: 0.2592 - val_accuracy: 0.9130 - lr: 0.0010 - 2s/epoch - 906ms/step\n",
      "Epoch 19/100\n",
      "2/2 - 2s - loss: 0.1543 - accuracy: 0.9467 - val_loss: 0.2493 - val_accuracy: 0.9170 - lr: 0.0010 - 2s/epoch - 907ms/step\n",
      "Epoch 20/100\n",
      "2/2 - 2s - loss: 0.0780 - accuracy: 0.9667 - val_loss: 0.2428 - val_accuracy: 0.9207 - lr: 0.0010 - 2s/epoch - 902ms/step\n",
      "Epoch 21/100\n",
      "2/2 - 2s - loss: 0.0869 - accuracy: 0.9667 - val_loss: 0.2393 - val_accuracy: 0.9221 - lr: 0.0010 - 2s/epoch - 905ms/step\n",
      "Epoch 22/100\n",
      "2/2 - 2s - loss: 0.0421 - accuracy: 0.9933 - val_loss: 0.2304 - val_accuracy: 0.9264 - lr: 0.0010 - 2s/epoch - 906ms/step\n",
      "Epoch 23/100\n",
      "2/2 - 2s - loss: 0.0395 - accuracy: 0.9800 - val_loss: 0.2227 - val_accuracy: 0.9303 - lr: 0.0010 - 2s/epoch - 910ms/step\n",
      "Epoch 24/100\n",
      "2/2 - 2s - loss: 0.0509 - accuracy: 0.9867 - val_loss: 0.2187 - val_accuracy: 0.9324 - lr: 0.0010 - 2s/epoch - 918ms/step\n",
      "Epoch 25/100\n",
      "2/2 - 2s - loss: 0.0414 - accuracy: 0.9867 - val_loss: 0.2117 - val_accuracy: 0.9349 - lr: 0.0010 - 2s/epoch - 900ms/step\n",
      "Epoch 26/100\n",
      "2/2 - 2s - loss: 0.0404 - accuracy: 0.9867 - val_loss: 0.2119 - val_accuracy: 0.9338 - lr: 0.0010 - 2s/epoch - 914ms/step\n",
      "Epoch 27/100\n",
      "2/2 - 2s - loss: 0.0290 - accuracy: 0.9933 - val_loss: 0.2123 - val_accuracy: 0.9342 - lr: 0.0010 - 2s/epoch - 911ms/step\n",
      "Epoch 28/100\n",
      "\n",
      "Epoch 28: ReduceLROnPlateau reducing learning rate to 0.0005000000237487257.\n",
      "2/2 - 2s - loss: 0.0138 - accuracy: 1.0000 - val_loss: 0.2143 - val_accuracy: 0.9352 - lr: 0.0010 - 2s/epoch - 921ms/step\n",
      "Epoch 29/100\n",
      "2/2 - 2s - loss: 0.0704 - accuracy: 0.9733 - val_loss: 0.2123 - val_accuracy: 0.9360 - lr: 5.0000e-04 - 2s/epoch - 910ms/step\n",
      "Epoch 30/100\n",
      "2/2 - 2s - loss: 0.0428 - accuracy: 0.9933 - val_loss: 0.2089 - val_accuracy: 0.9373 - lr: 5.0000e-04 - 2s/epoch - 907ms/step\n",
      "Epoch 31/100\n",
      "2/2 - 2s - loss: 0.0283 - accuracy: 0.9933 - val_loss: 0.2032 - val_accuracy: 0.9394 - lr: 5.0000e-04 - 2s/epoch - 908ms/step\n",
      "Epoch 32/100\n",
      "2/2 - 2s - loss: 0.0321 - accuracy: 0.9933 - val_loss: 0.1983 - val_accuracy: 0.9410 - lr: 5.0000e-04 - 2s/epoch - 909ms/step\n",
      "Epoch 33/100\n",
      "2/2 - 2s - loss: 0.0052 - accuracy: 1.0000 - val_loss: 0.1952 - val_accuracy: 0.9429 - lr: 5.0000e-04 - 2s/epoch - 910ms/step\n",
      "Epoch 34/100\n",
      "2/2 - 2s - loss: 0.0274 - accuracy: 0.9933 - val_loss: 0.1936 - val_accuracy: 0.9442 - lr: 5.0000e-04 - 2s/epoch - 905ms/step\n",
      "Epoch 35/100\n",
      "2/2 - 2s - loss: 0.0073 - accuracy: 1.0000 - val_loss: 0.1930 - val_accuracy: 0.9442 - lr: 5.0000e-04 - 2s/epoch - 922ms/step\n",
      "Epoch 36/100\n",
      "2/2 - 2s - loss: 0.0097 - accuracy: 1.0000 - val_loss: 0.1924 - val_accuracy: 0.9447 - lr: 5.0000e-04 - 2s/epoch - 903ms/step\n",
      "Epoch 37/100\n",
      "2/2 - 2s - loss: 0.0175 - accuracy: 0.9933 - val_loss: 0.1923 - val_accuracy: 0.9446 - lr: 5.0000e-04 - 2s/epoch - 908ms/step\n",
      "Epoch 38/100\n",
      "2/2 - 2s - loss: 0.0071 - accuracy: 1.0000 - val_loss: 0.1924 - val_accuracy: 0.9447 - lr: 5.0000e-04 - 2s/epoch - 912ms/step\n",
      "Epoch 39/100\n",
      "2/2 - 2s - loss: 0.0070 - accuracy: 1.0000 - val_loss: 0.1924 - val_accuracy: 0.9446 - lr: 5.0000e-04 - 2s/epoch - 911ms/step\n",
      "Epoch 40/100\n",
      "\n",
      "Epoch 40: ReduceLROnPlateau reducing learning rate to 0.0002500000118743628.\n",
      "2/2 - 2s - loss: 0.0055 - accuracy: 1.0000 - val_loss: 0.1928 - val_accuracy: 0.9451 - lr: 5.0000e-04 - 2s/epoch - 898ms/step\n",
      "Epoch 41/100\n",
      "2/2 - 2s - loss: 0.0151 - accuracy: 0.9867 - val_loss: 0.1929 - val_accuracy: 0.9448 - lr: 2.5000e-04 - 2s/epoch - 899ms/step\n",
      "Epoch 42/100\n",
      "2/2 - 2s - loss: 0.0070 - accuracy: 1.0000 - val_loss: 0.1930 - val_accuracy: 0.9446 - lr: 2.5000e-04 - 2s/epoch - 899ms/step\n",
      "Epoch 43/100\n",
      "\n",
      "Epoch 43: ReduceLROnPlateau reducing learning rate to 0.0001250000059371814.\n",
      "2/2 - 2s - loss: 0.0099 - accuracy: 1.0000 - val_loss: 0.1931 - val_accuracy: 0.9445 - lr: 2.5000e-04 - 2s/epoch - 904ms/step\n",
      "Epoch 44/100\n",
      "2/2 - 2s - loss: 0.0169 - accuracy: 0.9933 - val_loss: 0.1930 - val_accuracy: 0.9446 - lr: 1.2500e-04 - 2s/epoch - 899ms/step\n",
      "Epoch 45/100\n",
      "2/2 - 2s - loss: 0.0085 - accuracy: 1.0000 - val_loss: 0.1930 - val_accuracy: 0.9447 - lr: 1.2500e-04 - 2s/epoch - 905ms/step\n",
      "Epoch 46/100\n",
      "\n",
      "Epoch 46: ReduceLROnPlateau reducing learning rate to 0.0001.\n",
      "2/2 - 2s - loss: 0.0077 - accuracy: 1.0000 - val_loss: 0.1931 - val_accuracy: 0.9444 - lr: 1.2500e-04 - 2s/epoch - 904ms/step\n",
      "Epoch 46: early stopping\n"
     ]
    }
   ],
   "execution_count": 67
  },
  {
   "metadata": {
    "ExecuteTime": {
     "end_time": "2024-05-14T15:22:25.698512Z",
     "start_time": "2024-05-14T15:22:25.696723Z"
    }
   },
   "cell_type": "code",
   "source": "history = history.history",
   "id": "68f72d02945c5a62",
   "outputs": [],
   "execution_count": 68
  },
  {
   "metadata": {
    "ExecuteTime": {
     "end_time": "2024-05-14T15:22:25.934110Z",
     "start_time": "2024-05-14T15:22:25.699233Z"
    }
   },
   "cell_type": "code",
   "source": [
    "fig, ax = plt.subplots(2,1)\n",
    "ax[0].plot(history['loss'], color='b', label=\"Training loss\")\n",
    "ax[0].plot(history['val_loss'], color='r', label=\"validation loss\",axes =ax[0])\n",
    "legend = ax[0].legend(loc='best', shadow=True)\n",
    "\n",
    "ax[1].plot(history['accuracy'], color='b', label=\"Training accuracy\")\n",
    "ax[1].plot(history['val_accuracy'], color='r',label=\"Validation accuracy\")\n",
    "legend = ax[1].legend(loc='best', shadow=True)\n"
   ],
   "id": "991070538014de2e",
   "outputs": [
    {
     "data": {
      "text/plain": [
       "<Figure size 640x480 with 2 Axes>"
      ],
      "image/png": "[encoded data removed]"
     },
     "metadata": {},
     "output_type": "display_data"
    }
   ],
   "execution_count": 69
  },
  {
   "metadata": {
    "ExecuteTime": {
     "end_time": "2024-05-14T15:22:25.936635Z",
     "start_time": "2024-05-14T15:22:25.934904Z"
    }
   },
   "cell_type": "code",
   "source": "# identifier = random.randint(0, 100)",
   "id": "eed6ca284df059d8",
   "outputs": [],
   "execution_count": 70
  },
  {
   "metadata": {
    "ExecuteTime": {
     "end_time": "2024-05-14T15:22:25.938812Z",
     "start_time": "2024-05-14T15:22:25.937260Z"
    }
   },
   "cell_type": "code",
   "source": [
    "# model.save(f'../model/chinese-{identifier}.keras')\n",
    "# np.save(f'../model/chinese-features-{identifier}.npy', features, allow_pickle=True)"
   ],
   "id": "fbaee36c8798ed67",
   "outputs": [],
   "execution_count": 71
  },
  {
   "metadata": {
    "ExecuteTime": {
     "end_time": "2024-05-14T15:22:25.940794Z",
     "start_time": "2024-05-14T15:22:25.939407Z"
    }
   },
   "cell_type": "code",
   "source": "",
   "id": "7dc7181c98eab34b",
   "outputs": [],
   "execution_count": 71
  }
 ],
 "metadata": {
  "kernelspec": {
   "display_name": "Python 3",
   "language": "python",
   "name": "python3"
  },
  "language_info": {
   "codemirror_mode": {
    "name": "ipython",
    "version": 2
   },
   "file_extension": ".py",
   "mimetype": "text/x-python",
   "name": "python",
   "nbconvert_exporter": "python",
   "pygments_lexer": "ipython2",
   "version": "2.7.6"
  }
 },
 "nbformat": 4,
 "nbformat_minor": 5
}
